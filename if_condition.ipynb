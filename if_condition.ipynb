{
  "nbformat": 4,
  "nbformat_minor": 0,
  "metadata": {
    "colab": {
      "provenance": [],
      "authorship_tag": "ABX9TyOhKElzH1TkGPgZwB4YBot0",
      "include_colab_link": true
    },
    "kernelspec": {
      "name": "python3",
      "display_name": "Python 3"
    },
    "language_info": {
      "name": "python"
    }
  },
  "cells": [
    {
      "cell_type": "markdown",
      "metadata": {
        "id": "view-in-github",
        "colab_type": "text"
      },
      "source": [
        "<a href=\"https://colab.research.google.com/github/gautamrajesh/python-for-cybersecurity/blob/main/if_condition.ipynb\" target=\"_parent\"><img src=\"https://colab.research.google.com/assets/colab-badge.svg\" alt=\"Open In Colab\"/></a>"
      ]
    },
    {
      "cell_type": "code",
      "execution_count": null,
      "metadata": {
        "colab": {
          "base_uri": "https://localhost:8080/"
        },
        "id": "r2bKR8F7PkQE",
        "outputId": "b9580093-4c1b-4c1b-ba3c-a1320ed05327"
      },
      "outputs": [
        {
          "output_type": "stream",
          "name": "stdout",
          "text": [
            "What is your first name: Rajesh\n",
            "What is your last name Gautam\n",
            "Your name is Rajesh Gautam\n"
          ]
        }
      ],
      "source": [
        "fname = input(\"What is your first name: \")\n",
        "lname = input(\"What is your last name \")\n",
        "print (f\"Your name is {fname} {lname}\")\n"
      ]
    },
    {
      "cell_type": "code",
      "source": [
        "pip install numpy"
      ],
      "metadata": {
        "id": "RWwFLaOOhm4d",
        "outputId": "5f59890b-8abc-43dd-d8d5-ec673586b4d2",
        "colab": {
          "base_uri": "https://localhost:8080/"
        }
      },
      "execution_count": null,
      "outputs": [
        {
          "output_type": "stream",
          "name": "stdout",
          "text": [
            "Requirement already satisfied: numpy in /usr/local/lib/python3.10/dist-packages (1.22.4)\n"
          ]
        }
      ]
    },
    {
      "cell_type": "code",
      "source": [],
      "metadata": {
        "id": "LUFurW9tKp_-"
      },
      "execution_count": null,
      "outputs": []
    },
    {
      "cell_type": "code",
      "source": [
        "import ipaddress\n",
        "\n",
        "def is_ip_in_subnet(network_block, ip_address):\n",
        "    network = ipaddress.ip_network(network_block)\n",
        "    address = ipaddress.ip_address(ip_address)\n",
        "    return address in network\n",
        "\n",
        "# Get input\n",
        "network_block = input().strip()\n",
        "ip_address = input().strip()\n",
        "\n",
        "# Check if IP is in subnet\n",
        "result = is_ip_in_subnet(network_block, ip_address)\n",
        "\n",
        "# Print result\n",
        "if result:\n",
        "    print(\"True\")\n",
        "else:\n",
        "    print(\"False\")"
      ],
      "metadata": {
        "colab": {
          "base_uri": "https://localhost:8080/"
        },
        "id": "i3Rl4IwsKrT1",
        "outputId": "73829f1e-bf07-446c-a990-80dec82c5f9c"
      },
      "execution_count": null,
      "outputs": [
        {
          "output_type": "stream",
          "name": "stdout",
          "text": [
            "192.168.0.0/18\n",
            "192.168.16.1\n",
            "True\n"
          ]
        }
      ]
    },
    {
      "cell_type": "code",
      "source": [
        "import ipaddress\n",
        "\n",
        "def is_valid_network_block(network_block):\n",
        "    try:\n",
        "        ipaddress.ip_network(network_block)\n",
        "        return True\n",
        "    except ValueError:\n",
        "        return False\n",
        "\n",
        "# Get input\n",
        "network_block = input().strip()\n",
        "\n",
        "# Validate network block\n",
        "if is_valid_network_block(network_block):\n",
        "    print(\"Network block is valid.\")\n",
        "else:\n",
        "    print(\"Invalid network block.\")"
      ],
      "metadata": {
        "colab": {
          "base_uri": "https://localhost:8080/"
        },
        "id": "ywu-UKhsOMSJ",
        "outputId": "268f392a-6803-4113-f6bd-8bbd53be70d3"
      },
      "execution_count": null,
      "outputs": [
        {
          "output_type": "stream",
          "name": "stdout",
          "text": [
            "10.10.231.124/16\n",
            "Invalid network block.\n"
          ]
        }
      ]
    },
    {
      "cell_type": "markdown",
      "source": [],
      "metadata": {
        "id": "qnmUfZi3Rooa"
      }
    },
    {
      "cell_type": "code",
      "source": [
        "ip = input(\"What is the IP address: \")\n",
        "print(\"scanning the target \" + ip)"
      ],
      "metadata": {
        "colab": {
          "base_uri": "https://localhost:8080/"
        },
        "id": "2eUrAWZjSr-R",
        "outputId": "13f5bfa7-afd1-4966-9472-11c41e6c0a2e"
      },
      "execution_count": null,
      "outputs": [
        {
          "output_type": "stream",
          "name": "stdout",
          "text": [
            "What is the IP address: 10.10.10.10\n",
            "scanning the target 10.10.10.10\n"
          ]
        }
      ]
    },
    {
      "cell_type": "code",
      "source": [],
      "metadata": {
        "id": "ZRqyhDUiUSMC"
      },
      "execution_count": null,
      "outputs": []
    },
    {
      "cell_type": "code",
      "source": [
        "print (\"You are targeting \" + input(\"Please enter the IP: \"))"
      ],
      "metadata": {
        "colab": {
          "base_uri": "https://localhost:8080/"
        },
        "id": "cj5UWIKaV0Po",
        "outputId": "561e794c-b6c0-43d5-8f99-a7f5b1e68019"
      },
      "execution_count": null,
      "outputs": [
        {
          "output_type": "stream",
          "name": "stdout",
          "text": [
            "Please enter the IP: 10.10.10.10\n",
            "You are targeting 10.10.10.10\n"
          ]
        }
      ]
    },
    {
      "cell_type": "code",
      "source": [
        "print(\"Hello Good morning\")\n",
        "PetName = input(\"What is the name of your pet?: \")\n",
        "BornCity = input(\"Which city you were born in?: \")\n",
        "print(f\"Your new twitter handle & bio@cyber{PetName} from {BornCity}.\")\n"
      ],
      "metadata": {
        "id": "yYb5twvMP1jP",
        "colab": {
          "base_uri": "https://localhost:8080/"
        },
        "outputId": "c7097ca4-f102-4c63-b47a-a7dd0ef35d1d"
      },
      "execution_count": null,
      "outputs": [
        {
          "output_type": "stream",
          "name": "stdout",
          "text": [
            "Hello Good morning\n",
            "What is the name of your pet?: bacchu\n",
            "Which city you were born in?: Butwal\n",
            "Your new twitter handle & bio@cyberbacchu from Butwal.\n"
          ]
        }
      ]
    },
    {
      "cell_type": "code",
      "source": [
        "fnum =input(\"Please enter the first number: \")\n",
        "snum =input(\"Please enter the second number: \")\n",
        "if fnum > snum:\n",
        "  print (\"The first number is bigger.\")\n",
        "elif fnum == snum:\n",
        "  print(\"Both numbers are equal.\")\n",
        "else:\n",
        "  print(\"The second number is bigger.\")"
      ],
      "metadata": {
        "colab": {
          "base_uri": "https://localhost:8080/"
        },
        "id": "ogSw3KfOd0ZJ",
        "outputId": "b036431d-5694-4996-ea66-1c93055954fc"
      },
      "execution_count": null,
      "outputs": [
        {
          "output_type": "stream",
          "name": "stdout",
          "text": [
            "Please enter the first number: 10068\n",
            "Please enter the second number: 10067.5\n",
            "The first number is bigger.\n"
          ]
        }
      ]
    },
    {
      "cell_type": "code",
      "source": [
        "score = int(input(\"Please enter your score here: \"))\n",
        "if score >= 90:\n",
        "  age = int(input(\"Please enter your age: \"))\n",
        "  if age <= 10:\n",
        "    print(\"You have acheived Grade A +\")\n",
        "  else:\n",
        "    print(\"You have acheived Grade A\")\n",
        "elif score >= 80:\n",
        "  age = int(input(\"Please enter your age: \"))\n",
        "  if age <= 10:\n",
        "    print(\"You have acheived Grade B +\")\n",
        "  else:\n",
        "    print(\"You have acheived Grade B\")\n",
        "elif score >= 70:\n",
        "    print(\"You have acheived Grade C\")\n",
        "elif score >= 60:\n",
        "  age = int(input(\"Please enter your age: \"))\n",
        "  if age <= 10:\n",
        "    print(\"You have acheived Grade D +\")\n",
        "  else:\n",
        "    print(\"You have acheived Grade D\")\n",
        "else:\n",
        "  print(\"You have acheived Grade F\")\n",
        "\n"
      ],
      "metadata": {
        "id": "v2WJG85mqAxS"
      },
      "execution_count": null,
      "outputs": []
    },
    {
      "cell_type": "code",
      "source": [
        "if 25 < 10 :\n",
        "  print('it worked')\n"
      ],
      "metadata": {
        "id": "_1nKu08C83Al"
      },
      "execution_count": null,
      "outputs": []
    },
    {
      "cell_type": "code",
      "source": [],
      "metadata": {
        "id": "lr4BaGTq-UV7"
      },
      "execution_count": null,
      "outputs": []
    }
  ]
}